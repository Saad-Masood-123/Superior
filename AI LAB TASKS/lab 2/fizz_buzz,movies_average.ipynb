{
 "cells": [
  {
   "cell_type": "markdown",
   "metadata": {},
   "source": [
    "AI Tasks(LAB 2)"
   ]
  },
  {
   "cell_type": "markdown",
   "metadata": {},
   "source": [
    "Task 1:FizzBuzz\n"
   ]
  },
  {
   "cell_type": "code",
   "execution_count": null,
   "metadata": {},
   "outputs": [],
   "source": [
    "while flag:\n",
    "    players_turn=int(input(\"Enter 1 for player one and 2 for player Two,3 for exit\"))\n",
    "    if players_turn==1:\n",
    "         print(\"Player 1 turn\")\n",
    "    elif players_turn==2:\n",
    "         print(\"Player 2 Turn\")\n",
    "    elif players_turn.lower()==\"exit\":\n",
    "         flag=False\n",
    "         break\n",
    "    try:       \n",
    "            player_number=int(input(\"Enter number to check it is fizz,buzz or fizz_buzz\"))\n",
    "            player_input=input(\"Enter fizz,buzz and fizz_buzz\")\n",
    "            if  player_number%3==0 and player_input.lower()==\"fizz\":\n",
    "                print(\"Yes Player\",players_turn,\" true\")\n",
    "\n",
    "            elif player_number%5==0 and player_input.lower()==\"buzz\":\n",
    "                print(\"Yes Player\",players_turn,\" true\")\n",
    "            elif player_number% 5==0 and player_number %3==0 and player_input.lower()==\"fizzbuzz\":\n",
    "                print(\"Yes Player\",players_turn,\" true\")\n",
    "            else:\n",
    "                 print(\"Player\",players_turn,\" is lost\")\n",
    "                 flag=False                                             \n",
    "    except:\n",
    "         print(\"Please enter valid numbers\")"
   ]
  },
  {
   "cell_type": "markdown",
   "metadata": {},
   "source": [
    "Task 2:Average Budget of film"
   ]
  },
  {
   "cell_type": "code",
   "execution_count": 1,
   "metadata": {},
   "outputs": [
    {
     "name": "stdout",
     "output_type": "stream",
     "text": [
      "\n",
      "Average movie budget: $56,000,145,741,357.80\n",
      "dil wale has a budget of $560,000,000,000,000.00, which is $503,999,854,258,642.19 higher than the average.\n",
      "\n",
      "Number of movies with a budget higher than the average: 1\n"
     ]
    }
   ],
   "source": [
    "movies = [\n",
    "    (\"Eternal Sunshine of the Spotless Mind\", 20000000),\n",
    "    (\"Memento\", 9000000),\n",
    "    (\"Requiem for a Dream\", 4500000),\n",
    "    (\"Pirates of the Caribbean: On Stranger Tides\", 379000000),\n",
    "    (\"Avengers: Age of Ultron\", 365000000),\n",
    "    (\"Avengers: Endgame\", 356000000),\n",
    "    (\"Incredibles 2\", 200000000)\n",
    "]\n",
    "def calculate_average_budget(movie_list):\n",
    "    total_budget = sum(budget for _, budget in movie_list)\n",
    "    return total_budget / len(movie_list)\n",
    "def print_high_budget_movies(movie_list, average_budget):\n",
    "    print(f\"\\nAverage movie budget: ${average_budget:,.2f}\")\n",
    "    high_budget_movies = []\n",
    "    for movie, budget in movie_list:\n",
    "        if budget > average_budget:\n",
    "            difference = budget - average_budget\n",
    "            print(f\"{movie} has a budget of ${budget:,.2f}, which is ${difference:,.2f} higher than the average.\")\n",
    "            high_budget_movies.append((movie, budget))\n",
    "    \n",
    "    print(f\"\\nNumber of movies with a budget higher than the average: {len(high_budget_movies)}\")\n",
    "def add_movies(movie_list):\n",
    "    try:\n",
    "        num_movies = int(input(\"How many movies would you like to add? \"))\n",
    "        for _ in range(num_movies):\n",
    "            name = input(\"Enter the movie name: \")\n",
    "            budget = int(input(\"Enter the movie budget: \"))\n",
    "            movie_list.append((name, budget))\n",
    "    except ValueError:\n",
    "        print(\"Invalid input. Please enter valid numbers for the budget.\")\n",
    "if __name__ == \"__main__\":\n",
    "    add_movies(movies)\n",
    "    average_budget = calculate_average_budget(movies)\n",
    "    print_high_budget_movies(movies, average_budget)\n"
   ]
  },
  {
   "cell_type": "code",
   "execution_count": null,
   "metadata": {},
   "outputs": [],
   "source": []
  }
 ],
 "metadata": {
  "kernelspec": {
   "display_name": "Python 3",
   "language": "python",
   "name": "python3"
  },
  "language_info": {
   "codemirror_mode": {
    "name": "ipython",
    "version": 3
   },
   "file_extension": ".py",
   "mimetype": "text/x-python",
   "name": "python",
   "nbconvert_exporter": "python",
   "pygments_lexer": "ipython3",
   "version": "3.12.5"
  }
 },
 "nbformat": 4,
 "nbformat_minor": 2
}

{
 "cells": [
  {
   "cell_type": "markdown",
   "metadata": {},
   "source": [
    "VISA CARD CHECKER USING LUHN ALGORITHM"
   ]
  },
  {
   "cell_type": "code",
   "execution_count": 4,
   "metadata": {},
   "outputs": [
    {
     "name": "stdout",
     "output_type": "stream",
     "text": [
      "last removed digit 1\n",
      "Updated Visa Card number = [5, 5, 9, 0, 4, 9, 0, 2, 1, 5, 9, 0, 0, 7, 1]\n",
      "Doing second step\n",
      "visa card number after reversing all digits\n",
      "[1, 7, 0, 0, 9, 5, 1, 2, 0, 9, 4, 0, 9, 5, 5]\n",
      "Doing third step \n",
      "[2, 7, 0, 0, 18, 5, 2, 2, 0, 9, 8, 0, 18, 5, 10, 1]\n",
      "[2, 7, 0, 0, 5, 2, 2, 0, 9, 8, 0, 5, 1, 9, 9, 1]\n",
      "60\n",
      "valid Master card\n"
     ]
    }
   ],
   "source": [
    "\n",
    "visaCard=[5,5,9,0,4,9,0,2,1,5,9,0,0,7,1,1]\n",
    "a=visaCard[-1]\n",
    "print(\"last removed digit\",a)\n",
    "visaCard.pop()\n",
    "print(\"Updated Visa Card number =\",visaCard)\n",
    "print(\"Doing second step\")\n",
    "new=[]\n",
    "empty= []\n",
    "list1 = []\n",
    "for i in visaCard[15::-1]:\n",
    "    # print(i)\n",
    "    new.append(i)\n",
    "print(\"visa card number after reversing all digits\")\n",
    "print(new)\n",
    "print(\"Doing third step \")\n",
    "for i in range(len(visaCard)):\n",
    "    if i % 2 == 0:\n",
    "        x = new[i]\n",
    "        y = x*2\n",
    "        empty.append(y)\n",
    "    else:\n",
    "        x = new[i]\n",
    "        empty.append(x)\n",
    "\n",
    "empty.append(a)\n",
    "print(empty)\n",
    "\n",
    "for z in range(len(empty)):\n",
    "    if empty[z]>9:\n",
    "        x = empty[z]\n",
    "        y = x -9\n",
    "        empty.append(y)\n",
    "       \n",
    "# print(empty)\n",
    "for a in empty:\n",
    "    if a <= 9:\n",
    "        list1.append(a)\n",
    "        \n",
    "print(list1) \n",
    "m = 0    \n",
    "for a in list1:\n",
    "    m = m +  a\n",
    "print(m)\n",
    "if m % 2 == 0:\n",
    "    print(\"valid Master card\")\n",
    "else:\n",
    "    print(\"master card is not valid\")\n",
    "\n",
    "\n",
    "    "
   ]
  },
  {
   "cell_type": "markdown",
   "metadata": {},
   "source": [
    "Task 2: Remove Punctuations from UserInput String (without using remove function)\n"
   ]
  },
  {
   "cell_type": "code",
   "execution_count": 12,
   "metadata": {},
   "outputs": [
    {
     "name": "stdout",
     "output_type": "stream",
     "text": [
      "udfgilsjgjlg\n"
     ]
    }
   ],
   "source": [
    "string=input(\"Please ENter your string to remove punctuations\")\n",
    "punctuation_signs='''*$^%#&*%#()#@^()><}{[]:;?'''\n",
    "a=''\n",
    "for i in string:\n",
    "    if i not in punctuation_signs:\n",
    "        a+=i\n",
    "print(a)"
   ]
  },
  {
   "cell_type": "markdown",
   "metadata": {},
   "source": [
    "Task 3: Sort text (word) in Alphabetical Order (without using sort function)"
   ]
  },
  {
   "cell_type": "code",
   "execution_count": 2,
   "metadata": {},
   "outputs": [
    {
     "name": "stdout",
     "output_type": "stream",
     "text": [
      "SORTED TEXT IS : aa bb gfhdgfa\n"
     ]
    }
   ],
   "source": [
    "def sort_words(input_from_user):\n",
    "    a = input_from_user.split()\n",
    "    for j in range (len(a)-1):\n",
    "        for i in range(len(a)-1-j):\n",
    "            if (a[i]>a[i+1]):\n",
    "                a[i],a[i+1] = a[i+1],a[i]\n",
    "\n",
    "    return\" \".join(a)\n",
    "\n",
    "input_from_user = input(\"Enter the text which do you want to sort\")\n",
    "a=sort_words(input_from_user)\n",
    "print(\"SORTED TEXT IS :\",a)"
   ]
  },
  {
   "cell_type": "code",
   "execution_count": null,
   "metadata": {},
   "outputs": [],
   "source": []
  },
  {
   "cell_type": "code",
   "execution_count": null,
   "metadata": {},
   "outputs": [],
   "source": []
  }
 ],
 "metadata": {
  "kernelspec": {
   "display_name": "Python 3",
   "language": "python",
   "name": "python3"
  },
  "language_info": {
   "codemirror_mode": {
    "name": "ipython",
    "version": 3
   },
   "file_extension": ".py",
   "mimetype": "text/x-python",
   "name": "python",
   "nbconvert_exporter": "python",
   "pygments_lexer": "ipython3",
   "version": "3.12.5"
  }
 },
 "nbformat": 4,
 "nbformat_minor": 2
}
